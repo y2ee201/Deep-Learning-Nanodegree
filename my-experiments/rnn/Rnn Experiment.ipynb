{
 "cells": [
  {
   "cell_type": "code",
   "execution_count": 1,
   "metadata": {
    "collapsed": true
   },
   "outputs": [],
   "source": [
    "import numpy as np\n",
    "import tensorflow as tf"
   ]
  },
  {
   "cell_type": "markdown",
   "metadata": {},
   "source": [
    "# Reading Corpus"
   ]
  },
  {
   "cell_type": "code",
   "execution_count": 36,
   "metadata": {
    "collapsed": false
   },
   "outputs": [
    {
     "name": "stdout",
     "output_type": "stream",
     "text": [
      "Howard Phillips Lovecraft died last March, at\n"
     ]
    }
   ],
   "source": [
    "corpus_file = open('corpus.txt', mode='r')\n",
    "corpus = corpus_file.read()\n",
    "print(corpus[:45])"
   ]
  },
  {
   "cell_type": "code",
   "execution_count": 40,
   "metadata": {
    "collapsed": false
   },
   "outputs": [
    {
     "name": "stdout",
     "output_type": "stream",
     "text": [
      "76\n",
      "[71, 36, 51, 11, 7, 65, 15, 39, 47, 32, 0, 0, 32, 59, 72, 15, 61, 36, 45, 28, 58, 7, 11, 23, 29, 15, 65, 32, 28, 65, 15, 0, 11, 72, 29, 15, 8, 11, 7, 58, 47, 9, 15, 11, 29]\n"
     ]
    }
   ],
   "source": [
    "vocab = set(corpus)\n",
    "print(len(vocab))\n",
    "\n",
    "vocab_to_int = {c:i for i, c in enumerate(vocab)}\n",
    "int_to_vocab = dict(enumerate(vocab))\n",
    "\n",
    "encoded = [vocab_to_int[c] for c in corpus]\n",
    "\n",
    "print(encoded[:45])"
   ]
  },
  {
   "cell_type": "code",
   "execution_count": 41,
   "metadata": {
    "collapsed": false
   },
   "outputs": [
    {
     "name": "stdout",
     "output_type": "stream",
     "text": [
      "63129\n"
     ]
    }
   ],
   "source": [
    "print(len(encoded))"
   ]
  },
  {
   "cell_type": "code",
   "execution_count": null,
   "metadata": {
    "collapsed": true
   },
   "outputs": [],
   "source": []
  }
 ],
 "metadata": {
  "kernelspec": {
   "display_name": "Python 3",
   "language": "python",
   "name": "python3"
  },
  "language_info": {
   "codemirror_mode": {
    "name": "ipython",
    "version": 3
   },
   "file_extension": ".py",
   "mimetype": "text/x-python",
   "name": "python",
   "nbconvert_exporter": "python",
   "pygments_lexer": "ipython3",
   "version": "3.5.2"
  }
 },
 "nbformat": 4,
 "nbformat_minor": 2
}
